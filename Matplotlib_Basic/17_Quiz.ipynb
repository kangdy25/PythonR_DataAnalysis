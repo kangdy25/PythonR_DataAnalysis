{
 "cells": [
  {
   "cell_type": "markdown",
   "id": "822109a0",
   "metadata": {},
   "source": [
    "# Matplotlib 퀴즈"
   ]
  },
  {
   "cell_type": "markdown",
   "id": "4a4d22fb",
   "metadata": {},
   "source": [
    "다음은 대한민국 영화 중에서 관객 수가 가장 많은 상위 8개의 데이터입니다. <br>\n",
    "주어진 코드를 이용하여 퀴즈를 풀어보시오."
   ]
  },
  {
   "cell_type": "markdown",
   "id": "ef4bfe7a",
   "metadata": {},
   "source": [
    "## 주의 사항\n",
    "1. 코드는 영상 본문 또는 고정 댓글로 제공됩니다. <br>\n",
    "2. 해결이 어려운 경우 구글링 또는 앞에서 공부한 내용을 참고하셔도 좋습니다."
   ]
  },
  {
   "cell_type": "code",
   "execution_count": 12,
   "id": "382a8dad",
   "metadata": {},
   "outputs": [
    {
     "data": {
      "text/html": [
       "<div>\n",
       "<style scoped>\n",
       "    .dataframe tbody tr th:only-of-type {\n",
       "        vertical-align: middle;\n",
       "    }\n",
       "\n",
       "    .dataframe tbody tr th {\n",
       "        vertical-align: top;\n",
       "    }\n",
       "\n",
       "    .dataframe thead th {\n",
       "        text-align: right;\n",
       "    }\n",
       "</style>\n",
       "<table border=\"1\" class=\"dataframe\">\n",
       "  <thead>\n",
       "    <tr style=\"text-align: right;\">\n",
       "      <th></th>\n",
       "      <th>영화</th>\n",
       "      <th>개봉 연도</th>\n",
       "      <th>관객 수</th>\n",
       "      <th>평점</th>\n",
       "    </tr>\n",
       "  </thead>\n",
       "  <tbody>\n",
       "    <tr>\n",
       "      <th>0</th>\n",
       "      <td>명량</td>\n",
       "      <td>2014</td>\n",
       "      <td>1761</td>\n",
       "      <td>8.88</td>\n",
       "    </tr>\n",
       "    <tr>\n",
       "      <th>1</th>\n",
       "      <td>극한직업</td>\n",
       "      <td>2019</td>\n",
       "      <td>1626</td>\n",
       "      <td>9.20</td>\n",
       "    </tr>\n",
       "    <tr>\n",
       "      <th>2</th>\n",
       "      <td>신과함께-죄와 벌</td>\n",
       "      <td>2017</td>\n",
       "      <td>1441</td>\n",
       "      <td>8.73</td>\n",
       "    </tr>\n",
       "    <tr>\n",
       "      <th>3</th>\n",
       "      <td>국제시장</td>\n",
       "      <td>2014</td>\n",
       "      <td>1426</td>\n",
       "      <td>9.16</td>\n",
       "    </tr>\n",
       "    <tr>\n",
       "      <th>4</th>\n",
       "      <td>괴물</td>\n",
       "      <td>2006</td>\n",
       "      <td>1301</td>\n",
       "      <td>8.62</td>\n",
       "    </tr>\n",
       "    <tr>\n",
       "      <th>5</th>\n",
       "      <td>도둑들</td>\n",
       "      <td>2012</td>\n",
       "      <td>1298</td>\n",
       "      <td>7.64</td>\n",
       "    </tr>\n",
       "    <tr>\n",
       "      <th>6</th>\n",
       "      <td>7번방의 선물</td>\n",
       "      <td>2013</td>\n",
       "      <td>1281</td>\n",
       "      <td>8.83</td>\n",
       "    </tr>\n",
       "    <tr>\n",
       "      <th>7</th>\n",
       "      <td>암살</td>\n",
       "      <td>2015</td>\n",
       "      <td>1270</td>\n",
       "      <td>9.10</td>\n",
       "    </tr>\n",
       "  </tbody>\n",
       "</table>\n",
       "</div>"
      ],
      "text/plain": [
       "          영화  개봉 연도  관객 수    평점\n",
       "0         명량   2014  1761  8.88\n",
       "1       극한직업   2019  1626  9.20\n",
       "2  신과함께-죄와 벌   2017  1441  8.73\n",
       "3       국제시장   2014  1426  9.16\n",
       "4         괴물   2006  1301  8.62\n",
       "5        도둑들   2012  1298  7.64\n",
       "6    7번방의 선물   2013  1281  8.83\n",
       "7         암살   2015  1270  9.10"
      ]
     },
     "execution_count": 12,
     "metadata": {},
     "output_type": "execute_result"
    }
   ],
   "source": [
    "import pandas as pd\n",
    "import matplotlib.pyplot as plt\n",
    "import matplotlib\n",
    "# matplotlib.rcParams['font.family'] = 'Malgun Gothic' # Windows\n",
    "matplotlib.rcParams['font.family'] = 'AppleGothic' # Mac\n",
    "matplotlib.rcParams['font.size'] = 15\n",
    "matplotlib.rcParams['axes.unicode_minus'] = False\n",
    "\n",
    "data = {\n",
    "    '영화' : ['명량', '극한직업', '신과함께-죄와 벌', '국제시장', '괴물', '도둑들', '7번방의 선물', '암살'],\n",
    "    '개봉 연도' : [2014, 2019, 2017, 2014, 2006, 2012, 2013, 2015],\n",
    "    '관객 수' : [1761, 1626, 1441, 1426, 1301, 1298, 1281, 1270], # (단위 : 만 명)\n",
    "    '평점' : [8.88, 9.20, 8.73, 9.16, 8.62, 7.64, 8.83, 9.10]\n",
    "}\n",
    "df = pd.DataFrame(data)\n",
    "df"
   ]
  },
  {
   "cell_type": "markdown",
   "id": "6d341cde",
   "metadata": {},
   "source": [
    "## 1) 영화 데이터를 활용하여 x축은 영화, y축은 평점인 막대 그래프를 만드세요."
   ]
  },
  {
   "cell_type": "code",
   "execution_count": 30,
   "id": "8e6f4c81",
   "metadata": {},
   "outputs": [
    {
     "data": {
      "text/plain": [
       "<BarContainer object of 8 artists>"
      ]
     },
     "execution_count": 30,
     "metadata": {},
     "output_type": "execute_result"
    },
    {
     "data": {
      "image/png": "[encoded data removed]",
      "text/plain": [
       "<Figure size 432x288 with 1 Axes>"
      ]
     },
     "metadata": {
      "needs_background": "light"
     },
     "output_type": "display_data"
    }
   ],
   "source": [
    "plt.bar(data['영화'], data['평점'])"
   ]
  },
  {
   "cell_type": "markdown",
   "id": "5fd77796",
   "metadata": {},
   "source": [
    "## 2) 앞에서 만든 막대 그래프에 제시된 세부 사항을 적용하세요.\n",
    "\n",
    "+ 제목: 국내 Top 8 영화 평점 정보\n",
    "+ x축 label: 영화 (90도 회전)\n",
    "+ y축 label: 평점"
   ]
  },
  {
   "cell_type": "code",
   "execution_count": 7,
   "id": "0b84a247",
   "metadata": {},
   "outputs": [
    {
     "data": {
      "text/plain": [
       "Text(0.5, 1.0, '국내 Top 8 영화 평점 정보')"
      ]
     },
     "execution_count": 7,
     "metadata": {},
     "output_type": "execute_result"
    },
    {
     "data": {
      "image/png": "[encoded data removed]",
      "text/plain": [
       "<Figure size 432x288 with 1 Axes>"
      ]
     },
     "metadata": {
      "needs_background": "light"
     },
     "output_type": "display_data"
    }
   ],
   "source": [
    "df = plt.bar(data['영화'], data['평점'])\n",
    "plt.xticks(rotation = 90)\n",
    "plt.xlabel('영화')\n",
    "plt.ylabel('평점')\n",
    "plt.title('국내 Top 8 영화 평점 정보')"
   ]
  },
  {
   "cell_type": "markdown",
   "id": "fe22c464",
   "metadata": {},
   "source": [
    "## 3) 개별 연도별 평점 추이를 꺾은선 그래프로 그리세요. \n",
    "\n",
    "<br>\n",
    "\n",
    "### 연도별 평균 데이터를 구하는 코드는 다음과 같습니다."
   ]
  },
  {
   "cell_type": "code",
   "execution_count": 31,
   "id": "f7296709",
   "metadata": {},
   "outputs": [
    {
     "data": {
      "text/html": [
       "<div>\n",
       "<style scoped>\n",
       "    .dataframe tbody tr th:only-of-type {\n",
       "        vertical-align: middle;\n",
       "    }\n",
       "\n",
       "    .dataframe tbody tr th {\n",
       "        vertical-align: top;\n",
       "    }\n",
       "\n",
       "    .dataframe thead th {\n",
       "        text-align: right;\n",
       "    }\n",
       "</style>\n",
       "<table border=\"1\" class=\"dataframe\">\n",
       "  <thead>\n",
       "    <tr style=\"text-align: right;\">\n",
       "      <th></th>\n",
       "      <th>관객 수</th>\n",
       "      <th>평점</th>\n",
       "    </tr>\n",
       "    <tr>\n",
       "      <th>개봉 연도</th>\n",
       "      <th></th>\n",
       "      <th></th>\n",
       "    </tr>\n",
       "  </thead>\n",
       "  <tbody>\n",
       "    <tr>\n",
       "      <th>2006</th>\n",
       "      <td>1301.0</td>\n",
       "      <td>8.62</td>\n",
       "    </tr>\n",
       "    <tr>\n",
       "      <th>2012</th>\n",
       "      <td>1298.0</td>\n",
       "      <td>7.64</td>\n",
       "    </tr>\n",
       "    <tr>\n",
       "      <th>2013</th>\n",
       "      <td>1281.0</td>\n",
       "      <td>8.83</td>\n",
       "    </tr>\n",
       "    <tr>\n",
       "      <th>2014</th>\n",
       "      <td>1593.5</td>\n",
       "      <td>9.02</td>\n",
       "    </tr>\n",
       "    <tr>\n",
       "      <th>2015</th>\n",
       "      <td>1270.0</td>\n",
       "      <td>9.10</td>\n",
       "    </tr>\n",
       "    <tr>\n",
       "      <th>2017</th>\n",
       "      <td>1441.0</td>\n",
       "      <td>8.73</td>\n",
       "    </tr>\n",
       "    <tr>\n",
       "      <th>2019</th>\n",
       "      <td>1626.0</td>\n",
       "      <td>9.20</td>\n",
       "    </tr>\n",
       "  </tbody>\n",
       "</table>\n",
       "</div>"
      ],
      "text/plain": [
       "         관객 수    평점\n",
       "개봉 연도              \n",
       "2006   1301.0  8.62\n",
       "2012   1298.0  7.64\n",
       "2013   1281.0  8.83\n",
       "2014   1593.5  9.02\n",
       "2015   1270.0  9.10\n",
       "2017   1441.0  8.73\n",
       "2019   1626.0  9.20"
      ]
     },
     "execution_count": 31,
     "metadata": {},
     "output_type": "execute_result"
    }
   ],
   "source": [
    "df_group = df.groupby('개봉 연도').mean()\n",
    "df_group"
   ]
  },
  {
   "cell_type": "code",
   "execution_count": 32,
   "id": "c1ff1a34",
   "metadata": {},
   "outputs": [
    {
     "data": {
      "text/plain": [
       "[<matplotlib.lines.Line2D at 0x15ed97040>]"
      ]
     },
     "execution_count": 32,
     "metadata": {},
     "output_type": "execute_result"
    },
    {
     "data": {
      "image/png": "[encoded data removed]",
      "text/plain": [
       "<Figure size 432x288 with 1 Axes>"
      ]
     },
     "metadata": {
      "needs_background": "light"
     },
     "output_type": "display_data"
    }
   ],
   "source": [
    "plt.plot(df_group.index, df_group['평점'])"
   ]
  },
  {
   "cell_type": "markdown",
   "id": "2f9fabe3",
   "metadata": {},
   "source": [
    "## 4) 앞에서 만든 꺾은선 그래프에 제시된 세부 사항을 적용하세요.\n",
    "\n",
    "+ Marker: 'o'\n",
    "+ x축 눈금: 5년 단위 (2005, 2010, 2015, 2020)\n",
    "+ y축 눈금: 최소 7, 최대 10"
   ]
  },
  {
   "cell_type": "code",
   "execution_count": 33,
   "id": "5db48864",
   "metadata": {},
   "outputs": [
    {
     "data": {
      "text/plain": [
       "(7.0, 10.0)"
      ]
     },
     "execution_count": 33,
     "metadata": {},
     "output_type": "execute_result"
    },
    {
     "data": {
      "image/png": "[encoded data removed]",
      "text/plain": [
       "<Figure size 432x288 with 1 Axes>"
      ]
     },
     "metadata": {
      "needs_background": "light"
     },
     "output_type": "display_data"
    }
   ],
   "source": [
    "plt.plot(df_group.index, df_group['평점'], marker='o')\n",
    "plt.xticks([2005, 2010, 2015, 2020])\n",
    "plt.ylim(7, 10)"
   ]
  },
  {
   "cell_type": "markdown",
   "id": "3bfea96d",
   "metadata": {},
   "source": [
    "## 5) 평점이 9점 이상인 영화의 비율을 확인할 수 있는 원 그래프를 세부사항을 적용하여 그리세요.\n",
    "\n",
    "+ label: 9점 이상/9점 미만\n",
    "+ 퍼센트: 소수점 첫째 자리까지 표시\n",
    "+ 범례: 그래프 우측에 표시"
   ]
  },
  {
   "cell_type": "code",
   "execution_count": 37,
   "id": "0270ad25",
   "metadata": {},
   "outputs": [
    {
     "data": {
      "text/plain": [
       "<matplotlib.legend.Legend at 0x15ee28280>"
      ]
     },
     "execution_count": 37,
     "metadata": {},
     "output_type": "execute_result"
    },
    {
     "data": {
      "image/png": "[encoded data removed]",
      "text/plain": [
       "<Figure size 432x288 with 1 Axes>"
      ]
     },
     "metadata": {},
     "output_type": "display_data"
    }
   ],
   "source": [
    "filt = df['평점'] >= 9.0\n",
    "value = [len(df[filt]), len(df[~filt])]\n",
    "labels = ['9점 이상', '9점 미만']\n",
    "plt.pie(value, labels=labels, autopct='%.1f%%')\n",
    "\n",
    "plt.legend(loc=(1, 0.3))"
   ]
  }
 ],
 "metadata": {
  "kernelspec": {
   "display_name": "Python 3 (ipykernel)",
   "language": "python",
   "name": "python3"
  },
  "language_info": {
   "codemirror_mode": {
    "name": "ipython",
    "version": 3
   },
   "file_extension": ".py",
   "mimetype": "text/x-python",
   "name": "python",
   "nbconvert_exporter": "python",
   "pygments_lexer": "ipython3",
   "version": "3.9.10"
  }
 },
 "nbformat": 4,
 "nbformat_minor": 5
}
